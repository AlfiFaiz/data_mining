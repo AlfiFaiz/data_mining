{
 "cells": [
  {
   "cell_type": "code",
   "execution_count": 1,
   "metadata": {},
   "outputs": [],
   "source": [
    "%matplotlib inline\n",
    "import numpy as np\n",
    "import pandas as pd\n",
    "import matplotlib.pyplot as plt\n",
    "import seaborn as sns"
   ]
  },
  {
   "cell_type": "code",
   "execution_count": 2,
   "metadata": {},
   "outputs": [
    {
     "data": {
      "text/html": [
       "<div>\n",
       "<style scoped>\n",
       "    .dataframe tbody tr th:only-of-type {\n",
       "        vertical-align: middle;\n",
       "    }\n",
       "\n",
       "    .dataframe tbody tr th {\n",
       "        vertical-align: top;\n",
       "    }\n",
       "\n",
       "    .dataframe thead th {\n",
       "        text-align: right;\n",
       "    }\n",
       "</style>\n",
       "<table border=\"1\" class=\"dataframe\">\n",
       "  <thead>\n",
       "    <tr style=\"text-align: right;\">\n",
       "      <th></th>\n",
       "      <th>Kode Kecamatan</th>\n",
       "      <th>Kecamatan</th>\n",
       "      <th>Kode Kelurahan</th>\n",
       "      <th>Kelurahan</th>\n",
       "      <th>RW</th>\n",
       "      <th>Jumlah Kepala Keluarga</th>\n",
       "      <th>Jumlah Anggota Keluarga</th>\n",
       "    </tr>\n",
       "  </thead>\n",
       "  <tbody>\n",
       "    <tr>\n",
       "      <th>0</th>\n",
       "      <td>32.73.20</td>\n",
       "      <td>Antapani</td>\n",
       "      <td>32.73.20.1001</td>\n",
       "      <td>Antapani Kulon</td>\n",
       "      <td>1</td>\n",
       "      <td>98</td>\n",
       "      <td>255</td>\n",
       "    </tr>\n",
       "    <tr>\n",
       "      <th>1</th>\n",
       "      <td>32.73.20</td>\n",
       "      <td>Antapani</td>\n",
       "      <td>32.73.20.1001</td>\n",
       "      <td>Antapani Kulon</td>\n",
       "      <td>2</td>\n",
       "      <td>7</td>\n",
       "      <td>21</td>\n",
       "    </tr>\n",
       "    <tr>\n",
       "      <th>2</th>\n",
       "      <td>32.73.20</td>\n",
       "      <td>Antapani</td>\n",
       "      <td>32.73.20.1001</td>\n",
       "      <td>Antapani Kulon</td>\n",
       "      <td>3</td>\n",
       "      <td>26</td>\n",
       "      <td>56</td>\n",
       "    </tr>\n",
       "    <tr>\n",
       "      <th>3</th>\n",
       "      <td>32.73.20</td>\n",
       "      <td>Antapani</td>\n",
       "      <td>32.73.20.1001</td>\n",
       "      <td>Antapani Kulon</td>\n",
       "      <td>4</td>\n",
       "      <td>6</td>\n",
       "      <td>17</td>\n",
       "    </tr>\n",
       "    <tr>\n",
       "      <th>4</th>\n",
       "      <td>32.73.20</td>\n",
       "      <td>Antapani</td>\n",
       "      <td>32.73.20.1001</td>\n",
       "      <td>Antapani Kulon</td>\n",
       "      <td>5</td>\n",
       "      <td>161</td>\n",
       "      <td>379</td>\n",
       "    </tr>\n",
       "  </tbody>\n",
       "</table>\n",
       "</div>"
      ],
      "text/plain": [
       "  Kode Kecamatan Kecamatan Kode Kelurahan       Kelurahan RW  \\\n",
       "0       32.73.20  Antapani  32.73.20.1001  Antapani Kulon  1   \n",
       "1       32.73.20  Antapani  32.73.20.1001  Antapani Kulon  2   \n",
       "2       32.73.20  Antapani  32.73.20.1001  Antapani Kulon  3   \n",
       "3       32.73.20  Antapani  32.73.20.1001  Antapani Kulon  4   \n",
       "4       32.73.20  Antapani  32.73.20.1001  Antapani Kulon  5   \n",
       "\n",
       "   Jumlah Kepala Keluarga  Jumlah Anggota Keluarga  \n",
       "0                      98                      255  \n",
       "1                       7                       21  \n",
       "2                      26                       56  \n",
       "3                       6                       17  \n",
       "4                     161                      379  "
      ]
     },
     "execution_count": 2,
     "metadata": {},
     "output_type": "execute_result"
    }
   ],
   "source": [
    "df = pd.read_csv(\"D:\\\\kuliah\\\\sem3\\\\data mining\\\\data.jabarprov.go.id\\\\data-masyarakat-miskin-tahun-2020.csv\")\n",
    "df.head()"
   ]
  },
  {
   "cell_type": "code",
   "execution_count": 3,
   "metadata": {},
   "outputs": [
    {
     "data": {
      "text/html": [
       "<div>\n",
       "<style scoped>\n",
       "    .dataframe tbody tr th:only-of-type {\n",
       "        vertical-align: middle;\n",
       "    }\n",
       "\n",
       "    .dataframe tbody tr th {\n",
       "        vertical-align: top;\n",
       "    }\n",
       "\n",
       "    .dataframe thead th {\n",
       "        text-align: right;\n",
       "    }\n",
       "</style>\n",
       "<table border=\"1\" class=\"dataframe\">\n",
       "  <thead>\n",
       "    <tr style=\"text-align: right;\">\n",
       "      <th></th>\n",
       "      <th>Kode Kecamatan</th>\n",
       "      <th>Kecamatan</th>\n",
       "      <th>Kode Kelurahan</th>\n",
       "      <th>Kelurahan</th>\n",
       "      <th>Nama Perusahaan</th>\n",
       "      <th>Jenis Usaha</th>\n",
       "      <th>Alamat Usaha</th>\n",
       "      <th>Jumlah Pekerja</th>\n",
       "    </tr>\n",
       "  </thead>\n",
       "  <tbody>\n",
       "    <tr>\n",
       "      <th>0</th>\n",
       "      <td>32.73.20</td>\n",
       "      <td>Antapani</td>\n",
       "      <td>32.73.20.1001</td>\n",
       "      <td>Antapani Kulon</td>\n",
       "      <td>Abdullah Syuaib</td>\n",
       "      <td>Craft</td>\n",
       "      <td>Jl. Kalijati No. 42 RT 07/04 Antapani Kulon</td>\n",
       "      <td>20.0</td>\n",
       "    </tr>\n",
       "    <tr>\n",
       "      <th>1</th>\n",
       "      <td>32.73.20</td>\n",
       "      <td>Antapani</td>\n",
       "      <td>32.73.20.1006</td>\n",
       "      <td>Antapani Wetan</td>\n",
       "      <td>Achmad Sutisna</td>\n",
       "      <td>Kuliner</td>\n",
       "      <td>Jl. Malangbong V No. 38 Antapani Bandung</td>\n",
       "      <td>0.0</td>\n",
       "    </tr>\n",
       "    <tr>\n",
       "      <th>2</th>\n",
       "      <td>32.73.20</td>\n",
       "      <td>Antapani</td>\n",
       "      <td>32.73.20.1001</td>\n",
       "      <td>Antapani Kulon</td>\n",
       "      <td>Ade</td>\n",
       "      <td>Kuliner</td>\n",
       "      <td>Jl. Tarumasari RT 04/05 Antapani Kulon</td>\n",
       "      <td>3.0</td>\n",
       "    </tr>\n",
       "    <tr>\n",
       "      <th>3</th>\n",
       "      <td>32.73.20</td>\n",
       "      <td>Antapani</td>\n",
       "      <td>32.73.20.1001</td>\n",
       "      <td>Antapani Kulon</td>\n",
       "      <td>Agus</td>\n",
       "      <td>Kuliner</td>\n",
       "      <td>Jl. Sukapura No. 2 RT 01/06 Antapani Kulon</td>\n",
       "      <td>1.0</td>\n",
       "    </tr>\n",
       "    <tr>\n",
       "      <th>4</th>\n",
       "      <td>32.73.20</td>\n",
       "      <td>Antapani</td>\n",
       "      <td>32.73.20.1006</td>\n",
       "      <td>Antapani Wetan</td>\n",
       "      <td>Agus Koswara</td>\n",
       "      <td>Jasa</td>\n",
       "      <td>Jl. Sindangsari III RT 01/09 Antapani Wetan</td>\n",
       "      <td>2.0</td>\n",
       "    </tr>\n",
       "  </tbody>\n",
       "</table>\n",
       "</div>"
      ],
      "text/plain": [
       "  Kode Kecamatan Kecamatan Kode Kelurahan       Kelurahan  Nama Perusahaan  \\\n",
       "0       32.73.20  Antapani  32.73.20.1001  Antapani Kulon  Abdullah Syuaib   \n",
       "1       32.73.20  Antapani  32.73.20.1006  Antapani Wetan   Achmad Sutisna   \n",
       "2       32.73.20  Antapani  32.73.20.1001  Antapani Kulon              Ade   \n",
       "3       32.73.20  Antapani  32.73.20.1001  Antapani Kulon             Agus   \n",
       "4       32.73.20  Antapani  32.73.20.1006  Antapani Wetan     Agus Koswara   \n",
       "\n",
       "  Jenis Usaha                                 Alamat Usaha  Jumlah Pekerja  \n",
       "0       Craft  Jl. Kalijati No. 42 RT 07/04 Antapani Kulon            20.0  \n",
       "1     Kuliner     Jl. Malangbong V No. 38 Antapani Bandung             0.0  \n",
       "2     Kuliner       Jl. Tarumasari RT 04/05 Antapani Kulon             3.0  \n",
       "3     Kuliner   Jl. Sukapura No. 2 RT 01/06 Antapani Kulon             1.0  \n",
       "4        Jasa  Jl. Sindangsari III RT 01/09 Antapani Wetan             2.0  "
      ]
     },
     "execution_count": 3,
     "metadata": {},
     "output_type": "execute_result"
    }
   ],
   "source": [
    "df1 = pd.read_csv(\"D:\\\\kuliah\\\\sem3\\\\data mining\\\\data.jabarprov.go.id\\\\data-usaha-kecil-dan-menengah-tahun-2020.csv\")\n",
    "df1.head()"
   ]
  },
  {
   "cell_type": "code",
   "execution_count": 4,
   "metadata": {},
   "outputs": [
    {
     "name": "stdout",
     "output_type": "stream",
     "text": [
      "<class 'pandas.core.frame.DataFrame'>\n",
      "RangeIndex: 46 entries, 0 to 45\n",
      "Data columns (total 7 columns):\n",
      " #   Column                   Non-Null Count  Dtype \n",
      "---  ------                   --------------  ----- \n",
      " 0   Kode Kecamatan           46 non-null     object\n",
      " 1   Kecamatan                46 non-null     object\n",
      " 2   Kode Kelurahan           46 non-null     object\n",
      " 3   Kelurahan                46 non-null     object\n",
      " 4   RW                       46 non-null     object\n",
      " 5   Jumlah Kepala Keluarga   46 non-null     int64 \n",
      " 6   Jumlah Anggota Keluarga  46 non-null     int64 \n",
      "dtypes: int64(2), object(5)\n",
      "memory usage: 2.6+ KB\n"
     ]
    }
   ],
   "source": [
    "df.info()"
   ]
  },
  {
   "cell_type": "code",
   "execution_count": 5,
   "metadata": {},
   "outputs": [],
   "source": [
    "df.Kelurahan = pd.Categorical(df.Kelurahan,ordered=True,categories=['Antapani Kulon','Antapani Tengah','Antapani wetan','Antapani Kidul'])"
   ]
  },
  {
   "cell_type": "code",
   "execution_count": 6,
   "metadata": {},
   "outputs": [
    {
     "data": {
      "text/html": [
       "<div>\n",
       "<style scoped>\n",
       "    .dataframe tbody tr th:only-of-type {\n",
       "        vertical-align: middle;\n",
       "    }\n",
       "\n",
       "    .dataframe tbody tr th {\n",
       "        vertical-align: top;\n",
       "    }\n",
       "\n",
       "    .dataframe thead th {\n",
       "        text-align: right;\n",
       "    }\n",
       "</style>\n",
       "<table border=\"1\" class=\"dataframe\">\n",
       "  <thead>\n",
       "    <tr style=\"text-align: right;\">\n",
       "      <th></th>\n",
       "      <th>Kode Kecamatan</th>\n",
       "      <th>Kecamatan</th>\n",
       "      <th>Kode Kelurahan</th>\n",
       "      <th>Kelurahan</th>\n",
       "      <th>RW</th>\n",
       "      <th>Jumlah Kepala Keluarga</th>\n",
       "      <th>Jumlah Anggota Keluarga</th>\n",
       "    </tr>\n",
       "  </thead>\n",
       "  <tbody>\n",
       "    <tr>\n",
       "      <th>0</th>\n",
       "      <td>32.73.20</td>\n",
       "      <td>Antapani</td>\n",
       "      <td>32.73.20.1001</td>\n",
       "      <td>Antapani Kulon</td>\n",
       "      <td>1</td>\n",
       "      <td>98</td>\n",
       "      <td>255</td>\n",
       "    </tr>\n",
       "    <tr>\n",
       "      <th>1</th>\n",
       "      <td>32.73.20</td>\n",
       "      <td>Antapani</td>\n",
       "      <td>32.73.20.1001</td>\n",
       "      <td>Antapani Kulon</td>\n",
       "      <td>2</td>\n",
       "      <td>7</td>\n",
       "      <td>21</td>\n",
       "    </tr>\n",
       "    <tr>\n",
       "      <th>2</th>\n",
       "      <td>32.73.20</td>\n",
       "      <td>Antapani</td>\n",
       "      <td>32.73.20.1001</td>\n",
       "      <td>Antapani Kulon</td>\n",
       "      <td>3</td>\n",
       "      <td>26</td>\n",
       "      <td>56</td>\n",
       "    </tr>\n",
       "    <tr>\n",
       "      <th>3</th>\n",
       "      <td>32.73.20</td>\n",
       "      <td>Antapani</td>\n",
       "      <td>32.73.20.1001</td>\n",
       "      <td>Antapani Kulon</td>\n",
       "      <td>4</td>\n",
       "      <td>6</td>\n",
       "      <td>17</td>\n",
       "    </tr>\n",
       "    <tr>\n",
       "      <th>4</th>\n",
       "      <td>32.73.20</td>\n",
       "      <td>Antapani</td>\n",
       "      <td>32.73.20.1001</td>\n",
       "      <td>Antapani Kulon</td>\n",
       "      <td>5</td>\n",
       "      <td>161</td>\n",
       "      <td>379</td>\n",
       "    </tr>\n",
       "  </tbody>\n",
       "</table>\n",
       "</div>"
      ],
      "text/plain": [
       "  Kode Kecamatan Kecamatan Kode Kelurahan       Kelurahan RW  \\\n",
       "0       32.73.20  Antapani  32.73.20.1001  Antapani Kulon  1   \n",
       "1       32.73.20  Antapani  32.73.20.1001  Antapani Kulon  2   \n",
       "2       32.73.20  Antapani  32.73.20.1001  Antapani Kulon  3   \n",
       "3       32.73.20  Antapani  32.73.20.1001  Antapani Kulon  4   \n",
       "4       32.73.20  Antapani  32.73.20.1001  Antapani Kulon  5   \n",
       "\n",
       "   Jumlah Kepala Keluarga  Jumlah Anggota Keluarga  \n",
       "0                      98                      255  \n",
       "1                       7                       21  \n",
       "2                      26                       56  \n",
       "3                       6                       17  \n",
       "4                     161                      379  "
      ]
     },
     "execution_count": 6,
     "metadata": {},
     "output_type": "execute_result"
    }
   ],
   "source": [
    "df.head()"
   ]
  },
  {
   "cell_type": "code",
   "execution_count": 7,
   "metadata": {},
   "outputs": [
    {
     "data": {
      "text/plain": [
       "Kode Kecamatan             0\n",
       "Kecamatan                  0\n",
       "Kode Kelurahan             0\n",
       "Kelurahan                  0\n",
       "RW                         0\n",
       "Jumlah Kepala Keluarga     0\n",
       "Jumlah Anggota Keluarga    0\n",
       "dtype: int64"
      ]
     },
     "execution_count": 7,
     "metadata": {},
     "output_type": "execute_result"
    }
   ],
   "source": [
    "df.isna().sum()"
   ]
  },
  {
   "cell_type": "code",
   "execution_count": 8,
   "metadata": {},
   "outputs": [],
   "source": [
    "df.columns = df.columns.str.replace(' ','_', regex=True)"
   ]
  },
  {
   "cell_type": "code",
   "execution_count": 9,
   "metadata": {},
   "outputs": [
    {
     "data": {
      "text/plain": [
       "Kode_Kecamatan             0\n",
       "Kecamatan                  0\n",
       "Kode_Kelurahan             0\n",
       "Kelurahan                  0\n",
       "RW                         0\n",
       "Jumlah_Kepala_Keluarga     0\n",
       "Jumlah_Anggota_Keluarga    0\n",
       "dtype: int64"
      ]
     },
     "execution_count": 9,
     "metadata": {},
     "output_type": "execute_result"
    }
   ],
   "source": [
    "df.isna().sum()"
   ]
  },
  {
   "cell_type": "code",
   "execution_count": 10,
   "metadata": {},
   "outputs": [
    {
     "name": "stderr",
     "output_type": "stream",
     "text": [
      "C:\\Users\\HP\\AppData\\Local\\Temp\\ipykernel_6568\\1807678363.py:1: FutureWarning: The default of observed=False is deprecated and will be changed to True in a future version of pandas. Pass observed=False to retain current behavior or observed=True to adopt the future default and silence this warning.\n",
      "  df2 =df.groupby(['Kelurahan']).sum()\n"
     ]
    },
    {
     "data": {
      "text/html": [
       "<div>\n",
       "<style scoped>\n",
       "    .dataframe tbody tr th:only-of-type {\n",
       "        vertical-align: middle;\n",
       "    }\n",
       "\n",
       "    .dataframe tbody tr th {\n",
       "        vertical-align: top;\n",
       "    }\n",
       "\n",
       "    .dataframe thead th {\n",
       "        text-align: right;\n",
       "    }\n",
       "</style>\n",
       "<table border=\"1\" class=\"dataframe\">\n",
       "  <thead>\n",
       "    <tr style=\"text-align: right;\">\n",
       "      <th></th>\n",
       "      <th>Kode_Kecamatan</th>\n",
       "      <th>Kecamatan</th>\n",
       "      <th>Kode_Kelurahan</th>\n",
       "      <th>RW</th>\n",
       "      <th>Jumlah_Kepala_Keluarga</th>\n",
       "      <th>Jumlah_Anggota_Keluarga</th>\n",
       "    </tr>\n",
       "    <tr>\n",
       "      <th>Kelurahan</th>\n",
       "      <th></th>\n",
       "      <th></th>\n",
       "      <th></th>\n",
       "      <th></th>\n",
       "      <th></th>\n",
       "      <th></th>\n",
       "    </tr>\n",
       "  </thead>\n",
       "  <tbody>\n",
       "    <tr>\n",
       "      <th>Antapani Kulon</th>\n",
       "      <td>32.73.2032.73.2032.73.2032.73.2032.73.2032.73....</td>\n",
       "      <td>AntapaniAntapaniAntapaniAntapaniAntapaniAntapa...</td>\n",
       "      <td>32.73.20.100132.73.20.100132.73.20.100132.73.2...</td>\n",
       "      <td>1234567</td>\n",
       "      <td>481</td>\n",
       "      <td>1238</td>\n",
       "    </tr>\n",
       "    <tr>\n",
       "      <th>Antapani Tengah</th>\n",
       "      <td>32.73.2032.73.2032.73.2032.73.2032.73.2032.73....</td>\n",
       "      <td>AntapaniAntapaniAntapaniAntapaniAntapaniAntapa...</td>\n",
       "      <td>32.73.20.100432.73.20.100432.73.20.100432.73.2...</td>\n",
       "      <td>12345678910131415161718192021222324</td>\n",
       "      <td>866</td>\n",
       "      <td>1913</td>\n",
       "    </tr>\n",
       "    <tr>\n",
       "      <th>Antapani wetan</th>\n",
       "      <td>32.73.20</td>\n",
       "      <td>Antapani</td>\n",
       "      <td>32.73.20.1004</td>\n",
       "      <td>9-Jan</td>\n",
       "      <td>2547</td>\n",
       "      <td>27</td>\n",
       "    </tr>\n",
       "    <tr>\n",
       "      <th>Antapani Kidul</th>\n",
       "      <td>32.73.2032.73.2032.73.2032.73.2032.73.2032.73....</td>\n",
       "      <td>AntapaniAntapaniAntapaniAntapaniAntapaniAntapa...</td>\n",
       "      <td>32.73.20.100532.73.20.100532.73.20.100532.73.2...</td>\n",
       "      <td>123456891113141516171819</td>\n",
       "      <td>388</td>\n",
       "      <td>942</td>\n",
       "    </tr>\n",
       "  </tbody>\n",
       "</table>\n",
       "</div>"
      ],
      "text/plain": [
       "                                                    Kode_Kecamatan  \\\n",
       "Kelurahan                                                            \n",
       "Antapani Kulon   32.73.2032.73.2032.73.2032.73.2032.73.2032.73....   \n",
       "Antapani Tengah  32.73.2032.73.2032.73.2032.73.2032.73.2032.73....   \n",
       "Antapani wetan                                            32.73.20   \n",
       "Antapani Kidul   32.73.2032.73.2032.73.2032.73.2032.73.2032.73....   \n",
       "\n",
       "                                                         Kecamatan  \\\n",
       "Kelurahan                                                            \n",
       "Antapani Kulon   AntapaniAntapaniAntapaniAntapaniAntapaniAntapa...   \n",
       "Antapani Tengah  AntapaniAntapaniAntapaniAntapaniAntapaniAntapa...   \n",
       "Antapani wetan                                            Antapani   \n",
       "Antapani Kidul   AntapaniAntapaniAntapaniAntapaniAntapaniAntapa...   \n",
       "\n",
       "                                                    Kode_Kelurahan  \\\n",
       "Kelurahan                                                            \n",
       "Antapani Kulon   32.73.20.100132.73.20.100132.73.20.100132.73.2...   \n",
       "Antapani Tengah  32.73.20.100432.73.20.100432.73.20.100432.73.2...   \n",
       "Antapani wetan                                       32.73.20.1004   \n",
       "Antapani Kidul   32.73.20.100532.73.20.100532.73.20.100532.73.2...   \n",
       "\n",
       "                                                  RW  Jumlah_Kepala_Keluarga  \\\n",
       "Kelurahan                                                                      \n",
       "Antapani Kulon                               1234567                     481   \n",
       "Antapani Tengah  12345678910131415161718192021222324                     866   \n",
       "Antapani wetan                                 9-Jan                    2547   \n",
       "Antapani Kidul              123456891113141516171819                     388   \n",
       "\n",
       "                 Jumlah_Anggota_Keluarga  \n",
       "Kelurahan                                 \n",
       "Antapani Kulon                      1238  \n",
       "Antapani Tengah                     1913  \n",
       "Antapani wetan                        27  \n",
       "Antapani Kidul                       942  "
      ]
     },
     "execution_count": 10,
     "metadata": {},
     "output_type": "execute_result"
    }
   ],
   "source": [
    "df2 =df.groupby(['Kelurahan']).sum()\n",
    "df2.head()"
   ]
  },
  {
   "cell_type": "code",
   "execution_count": 11,
   "metadata": {},
   "outputs": [
    {
     "data": {
      "text/html": [
       "<div>\n",
       "<style scoped>\n",
       "    .dataframe tbody tr th:only-of-type {\n",
       "        vertical-align: middle;\n",
       "    }\n",
       "\n",
       "    .dataframe tbody tr th {\n",
       "        vertical-align: top;\n",
       "    }\n",
       "\n",
       "    .dataframe thead th {\n",
       "        text-align: right;\n",
       "    }\n",
       "</style>\n",
       "<table border=\"1\" class=\"dataframe\">\n",
       "  <thead>\n",
       "    <tr style=\"text-align: right;\">\n",
       "      <th></th>\n",
       "      <th>Jumlah_Kepala_Keluarga</th>\n",
       "      <th>Jumlah_Anggota_Keluarga</th>\n",
       "    </tr>\n",
       "    <tr>\n",
       "      <th>Kelurahan</th>\n",
       "      <th></th>\n",
       "      <th></th>\n",
       "    </tr>\n",
       "  </thead>\n",
       "  <tbody>\n",
       "    <tr>\n",
       "      <th>Antapani Kulon</th>\n",
       "      <td>481</td>\n",
       "      <td>1238</td>\n",
       "    </tr>\n",
       "    <tr>\n",
       "      <th>Antapani Tengah</th>\n",
       "      <td>866</td>\n",
       "      <td>1913</td>\n",
       "    </tr>\n",
       "    <tr>\n",
       "      <th>Antapani wetan</th>\n",
       "      <td>2547</td>\n",
       "      <td>27</td>\n",
       "    </tr>\n",
       "    <tr>\n",
       "      <th>Antapani Kidul</th>\n",
       "      <td>388</td>\n",
       "      <td>942</td>\n",
       "    </tr>\n",
       "  </tbody>\n",
       "</table>\n",
       "</div>"
      ],
      "text/plain": [
       "                 Jumlah_Kepala_Keluarga  Jumlah_Anggota_Keluarga\n",
       "Kelurahan                                                       \n",
       "Antapani Kulon                      481                     1238\n",
       "Antapani Tengah                     866                     1913\n",
       "Antapani wetan                     2547                       27\n",
       "Antapani Kidul                      388                      942"
      ]
     },
     "execution_count": 11,
     "metadata": {},
     "output_type": "execute_result"
    }
   ],
   "source": [
    "df2 = df2.drop([\"Kode_Kecamatan\",\"Kecamatan\",\"Kode_Kelurahan\", \"RW\"], axis=1)\n",
    "df2.head()"
   ]
  },
  {
   "cell_type": "code",
   "execution_count": 12,
   "metadata": {},
   "outputs": [
    {
     "name": "stdout",
     "output_type": "stream",
     "text": [
      "<class 'pandas.core.frame.DataFrame'>\n",
      "RangeIndex: 143 entries, 0 to 142\n",
      "Data columns (total 8 columns):\n",
      " #   Column           Non-Null Count  Dtype  \n",
      "---  ------           --------------  -----  \n",
      " 0   Kode Kecamatan   143 non-null    object \n",
      " 1   Kecamatan        143 non-null    object \n",
      " 2   Kode Kelurahan   143 non-null    object \n",
      " 3   Kelurahan        143 non-null    object \n",
      " 4   Nama Perusahaan  143 non-null    object \n",
      " 5   Jenis Usaha      143 non-null    object \n",
      " 6   Alamat Usaha     143 non-null    object \n",
      " 7   Jumlah Pekerja   142 non-null    float64\n",
      "dtypes: float64(1), object(7)\n",
      "memory usage: 9.1+ KB\n"
     ]
    }
   ],
   "source": [
    "df1.info()"
   ]
  },
  {
   "cell_type": "code",
   "execution_count": 13,
   "metadata": {},
   "outputs": [],
   "source": [
    "df1.columns = df1.columns.str.replace(' ','_', regex=True)"
   ]
  },
  {
   "cell_type": "code",
   "execution_count": 14,
   "metadata": {},
   "outputs": [
    {
     "data": {
      "text/plain": [
       "Kode_Kecamatan     0\n",
       "Kecamatan          0\n",
       "Kode_Kelurahan     0\n",
       "Kelurahan          0\n",
       "Nama_Perusahaan    0\n",
       "Jenis_Usaha        0\n",
       "Alamat_Usaha       0\n",
       "Jumlah_Pekerja     1\n",
       "dtype: int64"
      ]
     },
     "execution_count": 14,
     "metadata": {},
     "output_type": "execute_result"
    }
   ],
   "source": [
    "df1.isna().sum()"
   ]
  },
  {
   "cell_type": "code",
   "execution_count": 15,
   "metadata": {},
   "outputs": [
    {
     "name": "stderr",
     "output_type": "stream",
     "text": [
      "C:\\Users\\HP\\AppData\\Local\\Temp\\ipykernel_6568\\3948019381.py:1: FutureWarning: Setting an item of incompatible dtype is deprecated and will raise in a future error of pandas. Value '0' has dtype incompatible with float64, please explicitly cast to a compatible dtype first.\n",
      "  df1[\"Jumlah_Pekerja\"].fillna(\"0\", inplace = True)\n"
     ]
    }
   ],
   "source": [
    "df1[\"Jumlah_Pekerja\"].fillna(\"0\", inplace = True)"
   ]
  },
  {
   "cell_type": "code",
   "execution_count": 16,
   "metadata": {},
   "outputs": [],
   "source": [
    "df1[\"Jumlah_Pekerja\"] = df1[\"Jumlah_Pekerja\"].astype(\"int64\")"
   ]
  },
  {
   "cell_type": "code",
   "execution_count": 17,
   "metadata": {},
   "outputs": [
    {
     "data": {
      "text/plain": [
       "Kode_Kecamatan     0\n",
       "Kecamatan          0\n",
       "Kode_Kelurahan     0\n",
       "Kelurahan          0\n",
       "Nama_Perusahaan    0\n",
       "Jenis_Usaha        0\n",
       "Alamat_Usaha       0\n",
       "Jumlah_Pekerja     0\n",
       "dtype: int64"
      ]
     },
     "execution_count": 17,
     "metadata": {},
     "output_type": "execute_result"
    }
   ],
   "source": [
    "df1.isna().sum()"
   ]
  },
  {
   "cell_type": "code",
   "execution_count": 18,
   "metadata": {},
   "outputs": [],
   "source": [
    "df1.Jenis_Usaha = pd.Categorical(df1.Jenis_Usaha,ordered=True,categories=['Fashion','Craft','Jasa','lainnya'])"
   ]
  },
  {
   "cell_type": "code",
   "execution_count": 19,
   "metadata": {},
   "outputs": [
    {
     "data": {
      "text/html": [
       "<div>\n",
       "<style scoped>\n",
       "    .dataframe tbody tr th:only-of-type {\n",
       "        vertical-align: middle;\n",
       "    }\n",
       "\n",
       "    .dataframe tbody tr th {\n",
       "        vertical-align: top;\n",
       "    }\n",
       "\n",
       "    .dataframe thead th {\n",
       "        text-align: right;\n",
       "    }\n",
       "</style>\n",
       "<table border=\"1\" class=\"dataframe\">\n",
       "  <thead>\n",
       "    <tr style=\"text-align: right;\">\n",
       "      <th></th>\n",
       "      <th>Kode_Kecamatan</th>\n",
       "      <th>Kecamatan</th>\n",
       "      <th>Kode_Kelurahan</th>\n",
       "      <th>Kelurahan</th>\n",
       "      <th>Nama_Perusahaan</th>\n",
       "      <th>Jenis_Usaha</th>\n",
       "      <th>Alamat_Usaha</th>\n",
       "      <th>Jumlah_Pekerja</th>\n",
       "    </tr>\n",
       "  </thead>\n",
       "  <tbody>\n",
       "    <tr>\n",
       "      <th>0</th>\n",
       "      <td>32.73.20</td>\n",
       "      <td>Antapani</td>\n",
       "      <td>32.73.20.1001</td>\n",
       "      <td>Antapani Kulon</td>\n",
       "      <td>Abdullah Syuaib</td>\n",
       "      <td>Craft</td>\n",
       "      <td>Jl. Kalijati No. 42 RT 07/04 Antapani Kulon</td>\n",
       "      <td>20</td>\n",
       "    </tr>\n",
       "    <tr>\n",
       "      <th>1</th>\n",
       "      <td>32.73.20</td>\n",
       "      <td>Antapani</td>\n",
       "      <td>32.73.20.1006</td>\n",
       "      <td>Antapani Wetan</td>\n",
       "      <td>Achmad Sutisna</td>\n",
       "      <td>NaN</td>\n",
       "      <td>Jl. Malangbong V No. 38 Antapani Bandung</td>\n",
       "      <td>0</td>\n",
       "    </tr>\n",
       "    <tr>\n",
       "      <th>2</th>\n",
       "      <td>32.73.20</td>\n",
       "      <td>Antapani</td>\n",
       "      <td>32.73.20.1001</td>\n",
       "      <td>Antapani Kulon</td>\n",
       "      <td>Ade</td>\n",
       "      <td>NaN</td>\n",
       "      <td>Jl. Tarumasari RT 04/05 Antapani Kulon</td>\n",
       "      <td>3</td>\n",
       "    </tr>\n",
       "    <tr>\n",
       "      <th>3</th>\n",
       "      <td>32.73.20</td>\n",
       "      <td>Antapani</td>\n",
       "      <td>32.73.20.1001</td>\n",
       "      <td>Antapani Kulon</td>\n",
       "      <td>Agus</td>\n",
       "      <td>NaN</td>\n",
       "      <td>Jl. Sukapura No. 2 RT 01/06 Antapani Kulon</td>\n",
       "      <td>1</td>\n",
       "    </tr>\n",
       "    <tr>\n",
       "      <th>4</th>\n",
       "      <td>32.73.20</td>\n",
       "      <td>Antapani</td>\n",
       "      <td>32.73.20.1006</td>\n",
       "      <td>Antapani Wetan</td>\n",
       "      <td>Agus Koswara</td>\n",
       "      <td>Jasa</td>\n",
       "      <td>Jl. Sindangsari III RT 01/09 Antapani Wetan</td>\n",
       "      <td>2</td>\n",
       "    </tr>\n",
       "  </tbody>\n",
       "</table>\n",
       "</div>"
      ],
      "text/plain": [
       "  Kode_Kecamatan Kecamatan Kode_Kelurahan       Kelurahan  Nama_Perusahaan  \\\n",
       "0       32.73.20  Antapani  32.73.20.1001  Antapani Kulon  Abdullah Syuaib   \n",
       "1       32.73.20  Antapani  32.73.20.1006  Antapani Wetan   Achmad Sutisna   \n",
       "2       32.73.20  Antapani  32.73.20.1001  Antapani Kulon              Ade   \n",
       "3       32.73.20  Antapani  32.73.20.1001  Antapani Kulon             Agus   \n",
       "4       32.73.20  Antapani  32.73.20.1006  Antapani Wetan     Agus Koswara   \n",
       "\n",
       "  Jenis_Usaha                                 Alamat_Usaha  Jumlah_Pekerja  \n",
       "0       Craft  Jl. Kalijati No. 42 RT 07/04 Antapani Kulon              20  \n",
       "1         NaN     Jl. Malangbong V No. 38 Antapani Bandung               0  \n",
       "2         NaN       Jl. Tarumasari RT 04/05 Antapani Kulon               3  \n",
       "3         NaN   Jl. Sukapura No. 2 RT 01/06 Antapani Kulon               1  \n",
       "4        Jasa  Jl. Sindangsari III RT 01/09 Antapani Wetan               2  "
      ]
     },
     "execution_count": 19,
     "metadata": {},
     "output_type": "execute_result"
    }
   ],
   "source": [
    "df1.head()"
   ]
  },
  {
   "cell_type": "code",
   "execution_count": 20,
   "metadata": {},
   "outputs": [
    {
     "data": {
      "text/plain": [
       "Kode_Kecamatan      0\n",
       "Kecamatan           0\n",
       "Kode_Kelurahan      0\n",
       "Kelurahan           0\n",
       "Nama_Perusahaan     0\n",
       "Jenis_Usaha        99\n",
       "Alamat_Usaha        0\n",
       "Jumlah_Pekerja      0\n",
       "dtype: int64"
      ]
     },
     "execution_count": 20,
     "metadata": {},
     "output_type": "execute_result"
    }
   ],
   "source": [
    "df1.isna().sum()"
   ]
  },
  {
   "cell_type": "code",
   "execution_count": 21,
   "metadata": {},
   "outputs": [],
   "source": [
    "df1[\"Jenis_Usaha\"].fillna(\"lainnya\", inplace = True)"
   ]
  },
  {
   "cell_type": "code",
   "execution_count": 22,
   "metadata": {},
   "outputs": [
    {
     "name": "stderr",
     "output_type": "stream",
     "text": [
      "C:\\Users\\HP\\AppData\\Local\\Temp\\ipykernel_6568\\2382222555.py:1: FutureWarning: The default of observed=False is deprecated and will be changed to True in a future version of pandas. Pass observed=False to retain current behavior or observed=True to adopt the future default and silence this warning.\n",
      "  df3 =df1.groupby(['Jenis_Usaha']).count()\n"
     ]
    },
    {
     "data": {
      "text/html": [
       "<div>\n",
       "<style scoped>\n",
       "    .dataframe tbody tr th:only-of-type {\n",
       "        vertical-align: middle;\n",
       "    }\n",
       "\n",
       "    .dataframe tbody tr th {\n",
       "        vertical-align: top;\n",
       "    }\n",
       "\n",
       "    .dataframe thead th {\n",
       "        text-align: right;\n",
       "    }\n",
       "</style>\n",
       "<table border=\"1\" class=\"dataframe\">\n",
       "  <thead>\n",
       "    <tr style=\"text-align: right;\">\n",
       "      <th></th>\n",
       "      <th>Total</th>\n",
       "    </tr>\n",
       "    <tr>\n",
       "      <th>Jenis_Usaha</th>\n",
       "      <th></th>\n",
       "    </tr>\n",
       "  </thead>\n",
       "  <tbody>\n",
       "    <tr>\n",
       "      <th>Fashion</th>\n",
       "      <td>22</td>\n",
       "    </tr>\n",
       "    <tr>\n",
       "      <th>Craft</th>\n",
       "      <td>20</td>\n",
       "    </tr>\n",
       "    <tr>\n",
       "      <th>Jasa</th>\n",
       "      <td>2</td>\n",
       "    </tr>\n",
       "    <tr>\n",
       "      <th>lainnya</th>\n",
       "      <td>99</td>\n",
       "    </tr>\n",
       "  </tbody>\n",
       "</table>\n",
       "</div>"
      ],
      "text/plain": [
       "             Total\n",
       "Jenis_Usaha       \n",
       "Fashion         22\n",
       "Craft           20\n",
       "Jasa             2\n",
       "lainnya         99"
      ]
     },
     "execution_count": 22,
     "metadata": {},
     "output_type": "execute_result"
    }
   ],
   "source": [
    "df3 =df1.groupby(['Jenis_Usaha']).count()\n",
    "df3 = df3.drop([\"Kode_Kecamatan\", \"Kecamatan\", \"Kode_Kelurahan\", \"Kelurahan\", \"Alamat_Usaha\", \"Nama_Perusahaan\"], axis=1)\n",
    "df3.columns = df3.columns.str.replace('Jumlah_Pekerja','Total', regex=True)\n",
    "df3.head()"
   ]
  },
  {
   "cell_type": "code",
   "execution_count": 23,
   "metadata": {},
   "outputs": [
    {
     "name": "stderr",
     "output_type": "stream",
     "text": [
      "C:\\Users\\HP\\AppData\\Local\\Temp\\ipykernel_6568\\4130338443.py:1: FutureWarning: The default of observed=False is deprecated and will be changed to True in a future version of pandas. Pass observed=False to retain current behavior or observed=True to adopt the future default and silence this warning.\n",
      "  df_groups1 = df3.groupby(['Jenis_Usaha'])[['Total',]].mean()\n"
     ]
    },
    {
     "data": {
      "text/plain": [
       "<Axes: xlabel='Jenis_Usaha'>"
      ]
     },
     "execution_count": 23,
     "metadata": {},
     "output_type": "execute_result"
    },
    {
     "data": {
      "image/png": "[encoded data removed]",
      "text/plain": [
       "<Figure size 640x480 with 1 Axes>"
      ]
     },
     "metadata": {},
     "output_type": "display_data"
    }
   ],
   "source": [
    "df_groups1 = df3.groupby(['Jenis_Usaha'])[['Total',]].mean()\n",
    "df_groups1.plot(kind='bar')"
   ]
  },
  {
   "cell_type": "code",
   "execution_count": 24,
   "metadata": {},
   "outputs": [
    {
     "name": "stderr",
     "output_type": "stream",
     "text": [
      "C:\\Users\\HP\\AppData\\Local\\Temp\\ipykernel_6568\\2373809271.py:1: FutureWarning: The default of observed=False is deprecated and will be changed to True in a future version of pandas. Pass observed=False to retain current behavior or observed=True to adopt the future default and silence this warning.\n",
      "  df_groups2 = df2.groupby(['Kelurahan'])[['Jumlah_Kepala_Keluarga', 'Jumlah_Anggota_Keluarga']].mean()\n"
     ]
    },
    {
     "data": {
      "text/plain": [
       "<Axes: xlabel='Kelurahan'>"
      ]
     },
     "execution_count": 24,
     "metadata": {},
     "output_type": "execute_result"
    },
    {
     "data": {
      "image/png": "[encoded data removed]",
      "text/plain": [
       "<Figure size 640x480 with 1 Axes>"
      ]
     },
     "metadata": {},
     "output_type": "display_data"
    }
   ],
   "source": [
    "df_groups2 = df2.groupby(['Kelurahan'])[['Jumlah_Kepala_Keluarga', 'Jumlah_Anggota_Keluarga']].mean()\n",
    "df_groups2.plot(kind='bar')"
   ]
  }
 ],
 "metadata": {
  "kernelspec": {
   "display_name": "Python 3",
   "language": "python",
   "name": "python3"
  },
  "language_info": {
   "codemirror_mode": {
    "name": "ipython",
    "version": 3
   },
   "file_extension": ".py",
   "mimetype": "text/x-python",
   "name": "python",
   "nbconvert_exporter": "python",
   "pygments_lexer": "ipython3",
   "version": "3.11.4"
  },
  "orig_nbformat": 4
 },
 "nbformat": 4,
 "nbformat_minor": 2
}
